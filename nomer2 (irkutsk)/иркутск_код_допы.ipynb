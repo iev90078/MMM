{
 "cells": [
  {
   "cell_type": "code",
   "execution_count": 1,
   "metadata": {},
   "outputs": [],
   "source": [
    "import numpy as np\n",
    "import matplotlib.pyplot as plt\n",
    "from numpy import cos, sin, log\n",
    "\n",
    "global x, y"
   ]
  },
  {
   "cell_type": "code",
   "execution_count": null,
   "id": "d64c7c7f",
   "metadata": {},
   "outputs": [],
   "source": [
    "f=open(\"иркутск.txt\")\n",
    "mass=[]\n",
    "for line in f:\n",
    "    mass+=[[float(i) for i in str(line).split()]]"
   ]
  },
  {
   "cell_type": "code",
   "execution_count": 2,
   "id": "274c8958",
   "metadata": {},
   "outputs": [
    {
     "ename": "NameError",
     "evalue": "name 'mass' is not defined",
     "output_type": "error",
     "traceback": [
      "\u001b[0;31m---------------------------------------------------------------------------\u001b[0m",
      "\u001b[0;31mNameError\u001b[0m                                 Traceback (most recent call last)",
      "Cell \u001b[0;32mIn[2], line 8\u001b[0m\n\u001b[1;32m      5\u001b[0m i\u001b[38;5;241m=\u001b[39ma\n\u001b[1;32m      6\u001b[0m \u001b[38;5;28;01mwhile\u001b[39;00m \u001b[38;5;28mlen\u001b[39m(x)\u001b[38;5;241m<\u001b[39m\u001b[38;5;241m6\u001b[39m:\n\u001b[1;32m      7\u001b[0m \u001b[38;5;66;03m#for i in range(a, b+1):\u001b[39;00m\n\u001b[0;32m----> 8\u001b[0m     \u001b[38;5;28;01mif\u001b[39;00m \u001b[43mmass\u001b[49m[i][\u001b[38;5;241m6\u001b[39m]\u001b[38;5;241m!=\u001b[39m\u001b[38;5;241m999.9\u001b[39m:\n\u001b[1;32m      9\u001b[0m         x\u001b[38;5;241m+\u001b[39m\u001b[38;5;241m=\u001b[39m[mass[i][\u001b[38;5;241m0\u001b[39m]]\n\u001b[1;32m     10\u001b[0m         y\u001b[38;5;241m+\u001b[39m\u001b[38;5;241m=\u001b[39m[mass[i][\u001b[38;5;241m6\u001b[39m]]\n",
      "\u001b[0;31mNameError\u001b[0m: name 'mass' is not defined"
     ]
    }
   ],
   "source": [
    "x=[]\n",
    "y=[]\n",
    "a=10\n",
    "\n",
    "i=a\n",
    "while len(x)<6:\n",
    "#for i in range(a, b+1):\n",
    "    if mass[i][6]!=999.9:\n",
    "        x+=[mass[i][0]]\n",
    "        y+=[mass[i][6]]\n",
    "    else: print(\"нет информации в год\", mass[i][0], \"Выберете другой промежуток времени.\")\n",
    "    i+=1\n",
    "    \n",
    "print(x)\n",
    "print(y)"
   ]
  }
 ],
 "metadata": {
  "kernelspec": {
   "display_name": "Python 3",
   "language": "python",
   "name": "python3"
  },
  "language_info": {
   "codemirror_mode": {
    "name": "ipython",
    "version": 3
   },
   "file_extension": ".py",
   "mimetype": "text/x-python",
   "name": "python",
   "nbconvert_exporter": "python",
   "pygments_lexer": "ipython3",
   "version": "3.10.12"
  }
 },
 "nbformat": 4,
 "nbformat_minor": 5
}
