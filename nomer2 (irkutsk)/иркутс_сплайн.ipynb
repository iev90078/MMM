{
 "cells": [
  {
   "cell_type": "code",
   "execution_count": 58,
   "metadata": {},
   "outputs": [],
   "source": [
    "import numpy as np\n",
    "import matplotlib.pyplot as plt\n",
    "from numpy import cos, sin, log\n",
    "from math import pi, exp\n",
    "\n",
    "global x, y"
   ]
  },
  {
   "cell_type": "code",
   "execution_count": 59,
   "metadata": {},
   "outputs": [],
   "source": [
    "f=open(\"иркутск.txt\")\n",
    "mass=[]\n",
    "for line in f:\n",
    "    mass+=[[float(i) for i in str(line).split()]]\n",
    "#print(mass[:10])"
   ]
  },
  {
   "cell_type": "code",
   "execution_count": 60,
   "metadata": {},
   "outputs": [
    {
     "name": "stdout",
     "output_type": "stream",
     "text": [
      "x= [1822.0, 1823.0, 1824.0, 1825.0, 1826.0, 1827.0, 1828.0, 1829.0, 1830.0, 1831.0, 1832.0, 1833.0]\n",
      "h=    [1.0, 1.0, 1.0, 1.0, 1.0, 1.0, 1.0, 1.0, 1.0, 1.0, 1.0]\n",
      "y= [15.1, 15.9, 15.6, 17.4, 17.4, 17.9, 15.0, 14.5, 14.9, 16.8, 15.5, 13.1]\n",
      "12 11\n"
     ]
    },
    {
     "data": {
      "text/plain": [
       "'\\nfor i in range(len(x)):\\n    print(\"x[\", i, \"]=\", x[i])\\n\\nprint()\\nfor i in range(len(h)):\\n    print(\"h[\", i+1, \"]=\", h[i])\\n'"
      ]
     },
     "execution_count": 60,
     "metadata": {},
     "output_type": "execute_result"
    }
   ],
   "source": [
    "x=[]\n",
    "y=[]\n",
    "#1874\n",
    "a=1860-1820\n",
    "a=2\n",
    "h=1\n",
    "i=a\n",
    "\n",
    "while i-a<12:\n",
    "#for i in range(a, b+1):\n",
    "    if mass[i][6]!=999.9:\n",
    "        x+=[mass[i][0]]\n",
    "        y+=[mass[i][6]]\n",
    "    else: print(mass[i][0])\n",
    "    i+=1\n",
    "\"\"\"\n",
    "x=[i for i in range(1, 7)]\n",
    "y=[1.0002, 1.0341, 0.6, 0.40105, 0.1,  0.23975]\n",
    "\"\"\"\n",
    "#y=x\n",
    "n=len(x)\n",
    "h=[x[i]-x[i-1] for i in range(1, len(x))]\n",
    "\n",
    "nh=len(h)\n",
    "print(\"x=\", x)\n",
    "print(\"h=   \", h)\n",
    "print(\"y=\", y)\n",
    "print(n, nh)\n",
    "\"\"\"\n",
    "for i in range(len(x)):\n",
    "    print(\"x[\", i, \"]=\", x[i])\n",
    "\n",
    "print()\n",
    "for i in range(len(h)):\n",
    "    print(\"h[\", i+1, \"]=\", h[i])\n",
    "\"\"\""
   ]
  },
  {
   "cell_type": "code",
   "execution_count": 61,
   "metadata": {},
   "outputs": [
    {
     "name": "stdout",
     "output_type": "stream",
     "text": [
      "[1.0, 1.0, 1.0, 1.0, 1.0, 1.0, 1.0, 1.0, 1.0, 1.0, 1.0] 12\n",
      "[1, 0, 0, 0, 0, 0, 0, 0, 0, 0, 0, 0]\n",
      "[1.0, 4.0, 1.0, 0, 0, 0, 0, 0, 0, 0, 0, 0]\n",
      "[0, 1.0, 4.0, 1.0, 0, 0, 0, 0, 0, 0, 0, 0]\n",
      "[0, 0, 1.0, 4.0, 1.0, 0, 0, 0, 0, 0, 0, 0]\n",
      "[0, 0, 0, 1.0, 4.0, 1.0, 0, 0, 0, 0, 0, 0]\n",
      "[0, 0, 0, 0, 1.0, 4.0, 1.0, 0, 0, 0, 0, 0]\n",
      "[0, 0, 0, 0, 0, 1.0, 4.0, 1.0, 0, 0, 0, 0]\n",
      "[0, 0, 0, 0, 0, 0, 1.0, 4.0, 1.0, 0, 0, 0]\n",
      "[0, 0, 0, 0, 0, 0, 0, 1.0, 4.0, 1.0, 0, 0]\n",
      "[0, 0, 0, 0, 0, 0, 0, 0, 1.0, 4.0, 1.0, 0]\n",
      "[0, 0, 0, 0, 0, 0, 0, 0, 0, 1.0, 4.0, 1.0]\n",
      "[0, 0, 0, 0, 0, 0, 0, 0, 0, 0, 0, 1]\n",
      "1 15.6 15.9 15.1 1.0 1.0\n",
      "2 17.4 15.6 15.9 1.0 1.0\n",
      "3 17.4 17.4 15.6 1.0 1.0\n",
      "4 17.9 17.4 17.4 1.0 1.0\n",
      "5 15.0 17.9 17.4 1.0 1.0\n",
      "6 14.5 15.0 17.9 1.0 1.0\n",
      "7 14.9 14.5 15.0 1.0 1.0\n",
      "8 16.8 14.9 14.5 1.0 1.0\n",
      "9 15.5 16.8 14.9 1.0 1.0\n",
      "10 13.1 15.5 16.8 1.0 1.0\n",
      "\n",
      "[0, -6.6000000000000085, 12.599999999999998, -10.799999999999994, 3.0, -20.39999999999999, 14.399999999999991, 5.400000000000002, 9.0, -19.200000000000006, -6.599999999999998, 0] 12\n"
     ]
    }
   ],
   "source": [
    "\n",
    "matrix=[[1]+[0]*(n-1)]\n",
    "\n",
    "print(h, n)\n",
    "for i in range(1, n-1):\n",
    "    #print(i, [h[i-1], 2*(h[i-1]+h[i]), h[i]])\n",
    "    matrix+=[[0]*(i-1)+[h[i-1], 2*(h[i-1]+h[i]), h[i]]+[0]*(n-2-i)]\n",
    "\n",
    "matrix+=[[0]*(n-1)+[1]]\n",
    "\n",
    "for elem in matrix:\n",
    "    print(elem)\n",
    "\"\"\"\n",
    "for i in range(nh-1):\n",
    "    if i!=0:\n",
    "        matrix[i][i-1]=h[i]\n",
    "        a+=[h[i]]\n",
    "    else: a+=[0]\n",
    "    if i!=nh-1:\n",
    "        matrix[i][i+1]=h[i+1]\n",
    "        b+=[h[i+1]]\n",
    "        matrix[i][i]=(h[i]+h[i+1])*2\n",
    "        c+=[2*(h[i]+h[i+1])*2]\n",
    "    else:\n",
    "        matrix[i][i]=(h[i])*2\n",
    "        c+=[2*(h[i]+h[i+1])*2]\n",
    "        b+=[0]\n",
    "    #print(i, y[i-1], y[i+1], y[i])\n",
    "\"\"\"\n",
    "\"\"\"\n",
    "f=[]\n",
    "f_str=[]\n",
    "print(y)\n",
    "ys=[str(elem) for elem in y]\n",
    "for i in range(nh-1):\n",
    "    print(i, y[i+2], y[i+2], y[i], h[i], h[i+1])\n",
    "    f+=[6*((y[i+2]-y[i+1])/h[i+1]-(y[i+1]-y[i])/h[i])]\n",
    "    f_str+=[\"6*((\"+ys[i+2]+\"-\"+ys[i+1]+\")/h[i+1]-(\"+ys[i+1]+\"-\"+ys[i]+\")/h[i])\"]\n",
    "\n",
    "\n",
    "f2=[]\n",
    "f2_str=[]\n",
    "\"\"\"\n",
    "\n",
    "f=[0]\n",
    "for i in range(1, n-1):\n",
    "    #i=j-1\n",
    "    print(i, y[i+1], y[i], y[i-1], h[i-1], h[i])\n",
    "    f+=[6*(  (y[i+1]-y[i]) / h[i]  -  (y[i]-y[i-1]) / h[i-1]  )]\n",
    "    #f2_str+=[\"6*((\"+ys[i+1]+\"-\"+ys[i]+\")/h[i+1]-(\"+ys[i]+\"-\"+ys[i-1]+\")/h[i])\"]\n",
    "f+=[0]\n",
    "print()\n",
    "print(f, len(f))\n"
   ]
  },
  {
   "cell_type": "code",
   "execution_count": 62,
   "metadata": {},
   "outputs": [
    {
     "name": "stdout",
     "output_type": "stream",
     "text": [
      "[ 0.         -2.92967157  5.11868628 -4.94507357  3.86160799 -7.50135837\n",
      "  5.74382551 -1.07394368  3.9519492  -5.73385312 -0.21653672  0.        ]\n"
     ]
    }
   ],
   "source": [
    "ans = np.linalg.solve(matrix, f)\n",
    "print(ans)\n",
    "\n",
    "#print(np.dot(matrix, np.array([0.440979231, -0.359916923, 0.293238462, -0.506736923,  0.411309231])))\n",
    "\n",
    "#ans=[0.440979231, -0.359916923, 0.293238462, -0.506736923,  0.411309231]"
   ]
  },
  {
   "cell_type": "code",
   "execution_count": null,
   "metadata": {},
   "outputs": [],
   "source": []
  },
  {
   "cell_type": "code",
   "execution_count": 63,
   "metadata": {},
   "outputs": [
    {
     "name": "stdout",
     "output_type": "stream",
     "text": [
      "11 [1.0, 1.0, 1.0, 1.0, 1.0, 1.0, 1.0, 1.0, 1.0, 1.0, 1.0] 12\n",
      "[15.1, 15.9, 15.6, 17.4, 17.4, 17.9, 15.0, 14.5, 14.9, 16.8, 15.5, 13.1]\n",
      "12 [0, 15.9, 15.6, 17.4, 17.4, 17.9, 15.0, 14.5, 14.9, 16.8, 15.5, 13.1]\n",
      "12 [0, -0.17655719039026485, 0.9179501663659262, 1.004756524926556, 0.46302373392784724, -1.3568514606379445, -2.235617891376064, 0.099323026142205, 1.5383257868072446, 0.6473738266288188, -2.32782109332252, -2.4360894533387403]\n",
      "12 [0.0, -2.929671571170797, 5.118686284683179, -4.945073567561918, 3.861607985564501, -7.501358374696085, 5.7438255132198455, -1.0739436781833076, 3.9519491995133866, -5.733853119870238, -0.21653672003243982, 0.0]\n",
      "12 [0, -2.929671571170797, 8.048357855853975, -10.063759852245097, 8.806681553126419, -11.362966360260586, 13.24518388791593, -6.817769191403153, 5.025892877696695, -9.685802319383624, 5.5173163998377985, 0.21653672003243982]\n"
     ]
    }
   ],
   "source": [
    "print(len(h), h, n)\n",
    "c=[elem for elem in ans]\n",
    "a=[0]+[y[i] for i in range(1, n)]\n",
    "\n",
    "d=[0]+[(c[i]-c[i-1])/h[i-1] for i in range(1, n)]\n",
    "\n",
    "b=[0]+[ ((y[i]-y[i-1])/h[i-1]+c[i]*h[i-1]/3+c[i-1]*h[i-1]/6) for i in range(1, n) ]\n",
    "\n",
    "print(y)\n",
    "print(len(a), a)\n",
    "print(len(b), b)\n",
    "print(len(c), c)\n",
    "print(len(d), d)"
   ]
  },
  {
   "cell_type": "code",
   "execution_count": 64,
   "metadata": {},
   "outputs": [],
   "source": [
    "def f(point, a, b, c, d):\n",
    "    for i in range(1, len(x)):\n",
    "        #print(x[i], point)\n",
    "        if x[i-1]<point<x[i]:\n",
    "            #print(point, i, a[i], b[i], c[i], d[i])\n",
    "            return a[i]+b[i]*(point-x[i])+ c[i]/2*(point-x[i])**2+d[i]/6*(point-x[i])**3\n",
    "   "
   ]
  },
  {
   "cell_type": "code",
   "execution_count": 65,
   "metadata": {},
   "outputs": [],
   "source": [
    "x1=np.arange(min(x),max(x), 0.001)\n",
    "y1=[f(elem, a, b, c, d) for elem in x1]"
   ]
  },
  {
   "cell_type": "code",
   "execution_count": 66,
   "metadata": {},
   "outputs": [
    {
     "name": "stdout",
     "output_type": "stream",
     "text": [
      "[1822.0, 1823.0, 1824.0, 1825.0, 1826.0, 1827.0, 1828.0, 1829.0, 1830.0, 1831.0, 1832.0, 1833.0] [15.1, 15.9, 15.6, 17.4, 17.4, 17.9, 15.0, 14.5, 14.9, 16.8, 15.5, 13.1]\n"
     ]
    },
    {
     "data": {
      "image/png": "[encoded data removed]",
      "text/plain": [
       "<Figure size 640x480 with 1 Axes>"
      ]
     },
     "metadata": {},
     "output_type": "display_data"
    }
   ],
   "source": [
    "plt.plot(x1, y1)\n",
    "plt.plot(x[:len(x)], y[:len(x)], 'ro')\n",
    "print(x[:len(x)], y[:len(x)])"
   ]
  },
  {
   "cell_type": "code",
   "execution_count": 69,
   "metadata": {},
   "outputs": [],
   "source": [
    "x12=np.arange(1828,1830, 0.001)\n",
    "y12=[f(elem, a, b, c, d) for elem in x12]"
   ]
  },
  {
   "cell_type": "code",
   "execution_count": 70,
   "metadata": {},
   "outputs": [
    {
     "data": {
      "text/plain": [
       "[<matplotlib.lines.Line2D at 0x7f23b105b880>]"
      ]
     },
     "execution_count": 70,
     "metadata": {},
     "output_type": "execute_result"
    },
    {
     "data": {
      "image/png": "[encoded data removed]",
      "text/plain": [
       "<Figure size 640x480 with 1 Axes>"
      ]
     },
     "metadata": {},
     "output_type": "display_data"
    }
   ],
   "source": [
    "plt.plot(x12, y12)\n",
    "#plt.plot(x[:len(x)], y[:len(x)], 'ro')\n",
    "#print(x[:len(x)], y[:len(x)])"
   ]
  }
 ],
 "metadata": {
  "kernelspec": {
   "display_name": "Python 3",
   "language": "python",
   "name": "python3"
  },
  "language_info": {
   "codemirror_mode": {
    "name": "ipython",
    "version": 3
   },
   "file_extension": ".py",
   "mimetype": "text/x-python",
   "name": "python",
   "nbconvert_exporter": "python",
   "pygments_lexer": "ipython3",
   "version": "3.10.12"
  }
 },
 "nbformat": 4,
 "nbformat_minor": 2
}
