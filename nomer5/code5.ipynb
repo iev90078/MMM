{
 "cells": [
  {
   "cell_type": "code",
   "execution_count": 1,
   "metadata": {},
   "outputs": [
    {
     "name": "stderr",
     "output_type": "stream",
     "text": [
      "/usr/lib/python3/dist-packages/scipy/__init__.py:146: UserWarning: A NumPy version >=1.17.3 and <1.25.0 is required for this version of SciPy (detected version 1.26.2\n",
      "  warnings.warn(f\"A NumPy version >={np_minversion} and <{np_maxversion}\"\n"
     ]
    }
   ],
   "source": [
    "import numpy as np\n",
    "from scipy.interpolate import CubicSpline\n",
    "\n",
    "import matplotlib.pyplot as plt\n",
    "from numpy import cos, sin, log\n",
    "from math import pi, exp\n",
    "\n",
    "global x, y"
   ]
  },
  {
   "cell_type": "code",
   "execution_count": 2,
   "metadata": {},
   "outputs": [
    {
     "name": "stdout",
     "output_type": "stream",
     "text": [
      "[0.0, 0.125, 0.25, 0.375, 0.5, 0.625, 0.75, 0.875, 1.0]\n",
      "[0.0, 0.02147, 0.29305, 0.494105, 0.541341, 0.516855, 0.468617, 0.416531, 0.367879]\n"
     ]
    },
    {
     "data": {
      "text/plain": [
       "[<matplotlib.lines.Line2D at 0x72e3136c9600>]"
      ]
     },
     "execution_count": 2,
     "metadata": {},
     "output_type": "execute_result"
    },
    {
     "data": {
      "image/png": "[encoded data removed]",
      "text/plain": [
       "<Figure size 640x480 with 1 Axes>"
      ]
     },
     "metadata": {},
     "output_type": "display_data"
    }
   ],
   "source": [
    "f=open(\"данные.txt\")\n",
    "x=[]\n",
    "y=[]\n",
    "for line in f:\n",
    "    p=[float(i) for i in line.split()]\n",
    "    x+=[p[0]]\n",
    "    y+=[p[1]]\n",
    "    \n",
    "print(x)\n",
    "print(y)\n",
    "\n",
    "plt.plot(x, y)\n"
   ]
  },
  {
   "cell_type": "markdown",
   "metadata": {},
   "source": [
    "# Метод трапеций"
   ]
  },
  {
   "cell_type": "code",
   "execution_count": 9,
   "metadata": {},
   "outputs": [],
   "source": [
    "def trap_int(n):\n",
    "    splin=CubicSpline(x, y)\n",
    "    x1=np.linspace(0, 1, n)\n",
    "    h=1/n\n",
    "    f=splin(x1)\n",
    "    s=0\n",
    "    for i in range(1,len(x1)):\n",
    "        In=h*(f[i]+f[i-1])/2\n",
    "        s+=In\n",
    "    return s"
   ]
  },
  {
   "cell_type": "code",
   "execution_count": 10,
   "metadata": {},
   "outputs": [
    {
     "name": "stdout",
     "output_type": "stream",
     "text": [
      "0.36443359334297454\n"
     ]
    }
   ],
   "source": [
    "print(trap_int(555))"
   ]
  },
  {
   "cell_type": "code",
   "execution_count": 20,
   "metadata": {},
   "outputs": [
    {
     "name": "stdout",
     "output_type": "stream",
     "text": [
      "2304 0.3649325832752549 8\n"
     ]
    }
   ],
   "source": [
    "i=len(x)\n",
    "k=0\n",
    "delta=abs(trap_int(i)-trap_int(i*2))\n",
    "while delta>0.0001:\n",
    "    k+=1\n",
    "    i*=2\n",
    "    delta=abs(trap_int(i)-trap_int(i*2))\n",
    "\n",
    "print(i, trap_int(i), k)"
   ]
  },
  {
   "cell_type": "markdown",
   "metadata": {},
   "source": [
    "# Формула Симпсона"
   ]
  },
  {
   "cell_type": "code",
   "execution_count": 24,
   "metadata": {},
   "outputs": [],
   "source": [
    "def simpson_int(n):\n",
    "    splin=CubicSpline(x, y)\n",
    "    x1=np.linspace(0, 1, n)\n",
    "    h=1/n\n",
    "    f=splin(x1)\n",
    "    s=0\n",
    "    for i in range(1,len(x1)-1):\n",
    "        In=h*(f[i-1]+f[i]+f[i+1])/3\n",
    "        s+=In\n",
    "    return s"
   ]
  },
  {
   "cell_type": "code",
   "execution_count": 30,
   "metadata": {},
   "outputs": [
    {
     "name": "stdout",
     "output_type": "stream",
     "text": [
      "4608 0.36497190131803214 9\n"
     ]
    }
   ],
   "source": [
    "i=len(x)\n",
    "k=0\n",
    "delta=abs(simpson_int(i)-simpson_int(i*2))\n",
    "while delta>0.0001:\n",
    "    k+=1\n",
    "    i*=2\n",
    "    delta=abs(simpson_int(i)-simpson_int(i*2))\n",
    "\n",
    "print(i, simpson_int(i), k)"
   ]
  }
 ],
 "metadata": {
  "kernelspec": {
   "display_name": "Python 3",
   "language": "python",
   "name": "python3"
  },
  "language_info": {
   "codemirror_mode": {
    "name": "ipython",
    "version": 3
   },
   "file_extension": ".py",
   "mimetype": "text/x-python",
   "name": "python",
   "nbconvert_exporter": "python",
   "pygments_lexer": "ipython3",
   "version": "3.10.12"
  }
 },
 "nbformat": 4,
 "nbformat_minor": 4
}
