{
 "cells": [
  {
   "cell_type": "code",
   "execution_count": 56,
   "metadata": {},
   "outputs": [],
   "source": [
    "import numpy as np\n",
    "from scipy.interpolate import CubicSpline\n",
    "\n",
    "from scipy.sparse import coo_matrix\n",
    "\n",
    "import matplotlib.pyplot as plt\n",
    "from numpy import cos, sin, log\n",
    "from math import pi, exp"
   ]
  },
  {
   "cell_type": "code",
   "execution_count": 57,
   "metadata": {},
   "outputs": [
    {
     "name": "stdout",
     "output_type": "stream",
     "text": [
      "[10.  1.  0.  0.  0.  0.  0.  0.  0.  0.]\n",
      "[ 0.5 10.   0.5  0.   0.   0.   0.   0.   0.   0. ]\n",
      "[ 0.33333333  0.33333333 10.          0.33333333  0.          0.\n",
      "  0.          0.          0.          0.        ]\n",
      "[ 0.25  0.25  0.25 10.    0.25  0.    0.    0.    0.    0.  ]\n",
      "[ 0.2  0.2  0.2  0.2 10.   0.2  0.   0.   0.   0. ]\n",
      "[ 0.16666667  0.16666667  0.16666667  0.16666667  0.16666667 10.\n",
      "  0.16666667  0.          0.          0.        ]\n",
      "[ 0.14285714  0.14285714  0.14285714  0.14285714  0.14285714  0.14285714\n",
      " 10.          0.14285714  0.          0.        ]\n",
      "[ 0.125  0.125  0.125  0.125  0.125  0.125  0.125 10.     0.125  0.   ]\n",
      "[ 0.11111111  0.11111111  0.11111111  0.11111111  0.11111111  0.11111111\n",
      "  0.11111111  0.11111111 10.          0.11111111]\n",
      "[ 0.1  0.1  0.1  0.1  0.1  0.1  0.1  0.1  0.1 10. ]\n"
     ]
    },
    {
     "data": {
      "text/plain": [
       "[None, None, None, None, None, None, None, None, None, None]"
      ]
     },
     "execution_count": 57,
     "metadata": {},
     "output_type": "execute_result"
    }
   ],
   "source": [
    "a=[]\n",
    "f=[]\n",
    "rashir=[]\n",
    "for i in range(1, 101):\n",
    "    z=[1/i for j in range(1, i)]+[10]+[1/i for j in range(i, i+1) if i!=100]+[0 for j in range(i+2, 101)]\n",
    "    a+=[z]\n",
    "    f+=[i]\n",
    "    rashir+=[z+[i]]\n",
    "\n",
    "a=np.array(a)\n",
    "f=np.array(f)\n",
    "rashir=np.array(rashir)\n",
    "\n",
    "[print(elem[:10]) for elem in a[:10]]\n"
   ]
  },
  {
   "cell_type": "markdown",
   "metadata": {},
   "source": [
    "# Метод Гаусса"
   ]
  },
  {
   "cell_type": "code",
   "execution_count": 58,
   "metadata": {},
   "outputs": [],
   "source": [
    "def gauss(rashir):\n",
    "    n=len(rashir)\n",
    "    for i in range(n):\n",
    "        k=rashir[i][i]\n",
    "        rashir[i]=rashir[i]/k\n",
    "        for j in range(i+1, n):\n",
    "            rashir[j]-=rashir[i]*rashir[j][i]\n",
    "        #print(rashir)\n",
    "    \n",
    "    for i in range(n-1, -1, -1):\n",
    "        rashir[i]/=rashir[i][i]\n",
    "        for j in range(i-1, -1, -1):\n",
    "            rashir[j]-=rashir[i]*rashir[j][i]\n",
    "\n",
    "        #print(rashir)\n",
    "    return  [rashir[i][-1] for i in range(100)]\n",
    "\n",
    "\n",
    "\n"
   ]
  },
  {
   "cell_type": "code",
   "execution_count": 59,
   "metadata": {},
   "outputs": [
    {
     "name": "stdout",
     "output_type": "stream",
     "text": [
      "[0.0818026037332875, 0.18197396266712507, 0.27871814292421154, 0.37467914587324136, 0.47033945574572217, 0.5658533575160218, 0.6612852380951056, 0.7566666648829987, 0.8520149028053807, 0.9473401760780312, 1.0426489179537786, 1.13794537476319, 1.2332324601423204, 1.3285122384602748, 1.42378621238112, 1.5190555011913218, 1.614320955366695, 1.70958323244876, 1.8048428486433565, 1.9001002147336652, 1.9953556615949402, 2.090609458656886, 2.185861827484458, 2.2811129519171525, 2.3763629857414905, 2.471612058568509, 2.566860280387049, 2.6621077451277313, 2.7573545334792513, 2.852600715133489, 2.9478463505899555, 3.043091492617092, 3.138336187444111, 3.233580475739508, 3.32882439341941, 3.4240679723192695, 3.519311240755079, 3.614554223994642, 3.7097969446553405, 3.8050394230413453, 3.900281677430747, 3.995523724321089, 4.090765578640113, 4.1860072539273725, 4.281248762491249, 4.376490115545198, 4.471731323326326, 4.5669723951989605, 4.6622133397453105, 4.75745416484511, 4.8526948777457495, 4.9479354851241695, 5.043175993141682, 5.138416407492587, 5.2336567334473845, 5.32889697589133, 5.424137139358856, 5.519377228064353, 5.6146172459297965, 5.709857196609578, 5.8050970835128295, 5.900336909823578, 5.995576678518935, 6.090816392385562, 6.186056054034606, 6.281295665915226, 6.37653523032691, 6.471774749430693, 6.567014225259388, 6.662253659726871, 6.757493054636659, 6.852732411689709, 6.947971732491543, 7.04321101855888, 7.138450271325587, 7.23368949214829, 7.328928682311462, 7.424167843032168, 7.519406975464326, 7.614646080702835, 7.709885159787225, 7.805124213705088, 7.900363243395315, 7.995602249751008, 8.090841233622234, 8.186080195818592, 8.281319137111543, 8.376558058236673, 8.471796959895698, 8.56703584275841, 8.662274707464453, 8.757513554624984, 8.85275238482425, 8.94799119862107, 9.043229996550126, 9.138468779123295, 9.233707546820634, 9.328946310052581, 9.424175327708742, 9.529038437541482]\n"
     ]
    }
   ],
   "source": [
    "ans=gauss(rashir)\n",
    "print(ans)"
   ]
  },
  {
   "cell_type": "code",
   "execution_count": 60,
   "metadata": {},
   "outputs": [
    {
     "name": "stdout",
     "output_type": "stream",
     "text": [
      "[ 0.00000000e+00  0.00000000e+00  4.44089210e-16  8.88178420e-16\n",
      " -8.88178420e-16  8.88178420e-16  8.88178420e-16 -8.88178420e-16\n",
      "  1.77635684e-15  0.00000000e+00 -3.55271368e-15  1.77635684e-15\n",
      "  0.00000000e+00 -1.77635684e-15  1.77635684e-15 -1.77635684e-15\n",
      "  0.00000000e+00  0.00000000e+00  0.00000000e+00 -3.55271368e-15\n",
      " -3.55271368e-15 -3.55271368e-15 -7.10542736e-15 -3.55271368e-15\n",
      "  1.06581410e-14 -3.55271368e-15  0.00000000e+00  3.55271368e-15\n",
      "  7.10542736e-15 -7.10542736e-15 -7.10542736e-15  0.00000000e+00\n",
      " -7.10542736e-15  0.00000000e+00  0.00000000e+00 -3.55271368e-14\n",
      " -7.10542736e-15  7.10542736e-15 -7.10542736e-15 -7.10542736e-15\n",
      "  0.00000000e+00  1.42108547e-14  0.00000000e+00 -1.42108547e-14\n",
      " -2.13162821e-14  0.00000000e+00  7.10542736e-15  2.13162821e-14\n",
      "  1.42108547e-14 -1.42108547e-14  0.00000000e+00 -1.42108547e-14\n",
      " -4.26325641e-14 -1.42108547e-14  7.10542736e-15 -2.13162821e-14\n",
      " -2.13162821e-14  0.00000000e+00 -1.42108547e-14 -1.42108547e-14\n",
      " -2.13162821e-14 -1.42108547e-14  7.10542736e-15 -2.13162821e-14\n",
      " -1.42108547e-14  1.42108547e-14  1.42108547e-14 -4.26325641e-14\n",
      "  2.84217094e-14  4.26325641e-14  2.84217094e-14  4.26325641e-14\n",
      " -5.68434189e-14 -2.84217094e-14 -1.42108547e-14 -2.84217094e-14\n",
      " -9.94759830e-14  1.42108547e-14 -1.42108547e-14 -2.84217094e-14\n",
      "  2.84217094e-14  0.00000000e+00  0.00000000e+00  1.42108547e-14\n",
      "  1.42108547e-14  8.52651283e-14  4.26325641e-14  5.68434189e-14\n",
      "  2.84217094e-14  1.42108547e-14  4.26325641e-14  0.00000000e+00\n",
      " -1.13686838e-13 -4.26325641e-14  5.68434189e-14 -5.68434189e-14\n",
      "  2.84217094e-14 -5.68434189e-14  2.84217094e-14  0.00000000e+00]\n"
     ]
    }
   ],
   "source": [
    "nevyazka=np.dot(a, ans)-f\n",
    "print(nevyazka)"
   ]
  },
  {
   "cell_type": "code",
   "execution_count": 61,
   "metadata": {},
   "outputs": [
    {
     "name": "stdout",
     "output_type": "stream",
     "text": [
      "3.734516829122846e-26\n"
     ]
    }
   ],
   "source": [
    "norma=0\n",
    "for elem in nevyazka:\n",
    "    norma+=elem**2\n",
    "norma=norma**1/2\n",
    "print(norma)"
   ]
  },
  {
   "cell_type": "markdown",
   "metadata": {},
   "source": [
    "# ПВР"
   ]
  },
  {
   "cell_type": "code",
   "execution_count": 62,
   "metadata": {},
   "outputs": [],
   "source": [
    "d=[[0]*(i-1)+[10]+[0]*(100-i) for i in range(1,101)]#диагональ\n",
    "l=[[1/i]*(i-1) +[0]*(100+1-i) for i in range(1, 101)]#ниже диагонали\n",
    "e=[[0]*(i-1)+[1]+[0]*(100-i) for i in range(1,101)]#единичная\n",
    "\n",
    "u=[]#выше диагонали\n",
    "for i in range(1, 101):\n",
    "    z=[0]*i+[1/i for j in range(i, i+1) if i!=100]+[0 for j in range(i+2, 101)]\n",
    "    u+=[z] \n",
    "\n",
    "x=np.array([0]*100)\n",
    "xpred=x[:]\n",
    "d=np.array(d)\n",
    "l=np.array(l)\n",
    "e=np.array(e)\n",
    "u=np.array(u)"
   ]
  },
  {
   "cell_type": "code",
   "execution_count": 63,
   "metadata": {},
   "outputs": [],
   "source": [
    "def norma_nyazki(x, a, f):\n",
    "    nevyazka=np.dot(a, x)-f\n",
    "    norma=0\n",
    "    for elem in nevyazka:\n",
    "        norma+=elem**2\n",
    "    return norma**1/2\n"
   ]
  },
  {
   "cell_type": "code",
   "execution_count": 64,
   "metadata": {
    "scrolled": true
   },
   "outputs": [
    {
     "name": "stdout",
     "output_type": "stream",
     "text": [
      "3\n",
      "0.08186639118457299 0.08045454545454545 0.0818026037332875\n",
      "0.18199896694214876 0.18133608815426996 0.18197396266712507\n",
      "0.2787329417389523 0.2782826195842725 0.27871814292421154\n",
      "0.37468963009647055 0.3743350010245202 0.37467914587324136\n",
      "0.47034764479524616 0.4700460459730147 0.47033945574572217\n"
     ]
    },
    {
     "data": {
      "text/plain": [
       "[None, None, None, None, None]"
      ]
     },
     "execution_count": 64,
     "metadata": {},
     "output_type": "execute_result"
    }
   ],
   "source": [
    "omega=1.1\n",
    "i=0\n",
    "minnorma=1000000000000\n",
    "k=0\n",
    "while k==0 or delta>0.0001:\n",
    "    xpred=x[:]\n",
    "    k+=1\n",
    "    x=np.dot(  e - omega*np.dot(np.linalg.inv(l+omega*d), a)  , x)+np.dot(np.linalg.inv(l+omega*d),omega*f )#на лекции\n",
    "    i+=1\n",
    "    \"\"\"\n",
    "    nevyazka=np.dot(a, x)-f\n",
    "    norma=0\n",
    "    for elem in nevyazka:\n",
    "        norma+=elem**2\n",
    "    norma=norma**1/2\n",
    "    \"\"\"\n",
    "    delta=0\n",
    "    for elem in x-xpred:\n",
    "        delta+=elem**2\n",
    "    delata=delta**1/2\n",
    "    \n",
    "print(k)\n",
    "[print(x[i], xpred[i], ans[i]) for i in range(5)]"
   ]
  },
  {
   "cell_type": "code",
   "execution_count": 65,
   "metadata": {
    "scrolled": true
   },
   "outputs": [
    {
     "name": "stdout",
     "output_type": "stream",
     "text": [
      "[6.62878788e-04 2.89335883e-04 1.81080131e-04 1.32787130e-04\n",
      " 1.06063399e-04 8.92508973e-05 7.77423488e-05 6.93834010e-05\n",
      " 6.30412535e-05 5.80663392e-05 5.40605329e-05 5.07666029e-05\n",
      " 4.80110866e-05 4.56728008e-05 4.36645352e-05 4.19219225e-05\n",
      " 4.03964110e-05 3.90506800e-05 3.78555622e-05 3.67879265e-05\n",
      " 3.58291878e-05 3.49642388e-05 3.41806691e-05 3.34681868e-05\n",
      " 3.28181826e-05 3.22233979e-05 3.16776682e-05 3.11757238e-05\n",
      " 3.07130319e-05 3.02856713e-05 2.98902324e-05 2.95237353e-05\n",
      " 2.91835643e-05 2.88674133e-05 2.85732411e-05 2.82992339e-05\n",
      " 2.80437749e-05 2.78054172e-05 2.75828627e-05 2.73749431e-05\n",
      " 2.71806035e-05 2.69988894e-05 2.68289351e-05 2.66699526e-05\n",
      " 2.65212242e-05 2.63820939e-05 2.62519613e-05 2.61302755e-05\n",
      " 2.60165304e-05 2.59102600e-05 2.58110345e-05 2.57184567e-05\n",
      " 2.56321592e-05 2.55518015e-05 2.54770675e-05 2.54076636e-05\n",
      " 2.53433163e-05 2.52837709e-05 2.52287896e-05 2.51781504e-05\n",
      " 2.51316454e-05 2.50890802e-05 2.50502724e-05 2.50150507e-05\n",
      " 2.49832545e-05 2.49547325e-05 2.49293423e-05 2.49069500e-05\n",
      " 2.48874289e-05 2.48706599e-05 2.48565300e-05 2.48449327e-05\n",
      " 2.48357672e-05 2.48289379e-05 2.48243543e-05 2.48219306e-05\n",
      " 2.48215851e-05 2.48232408e-05 2.48268238e-05 2.48322644e-05\n",
      " 2.48394959e-05 2.48484550e-05 2.48590812e-05 2.48713172e-05\n",
      " 2.48851078e-05 2.49004007e-05 2.49171458e-05 2.49352953e-05\n",
      " 2.49548035e-05 2.49756266e-05 2.49977227e-05 2.50210518e-05\n",
      " 2.50455755e-05 2.50712569e-05 2.50980609e-05 2.51259534e-05\n",
      " 2.51549020e-05 2.50852584e-05 2.47059381e-05 2.22695674e-05]\n"
     ]
    }
   ],
   "source": [
    "nevyazka=np.dot(a, x)-f\n",
    "print(nevyazka)"
   ]
  },
  {
   "cell_type": "code",
   "execution_count": 66,
   "metadata": {},
   "outputs": [
    {
     "name": "stdout",
     "output_type": "stream",
     "text": [
      "3.4379582526784134e-07\n"
     ]
    }
   ],
   "source": [
    "norma=0\n",
    "for elem in nevyazka:\n",
    "    norma+=elem**2\n",
    "norma=norma**1/2\n",
    "print(norma)"
   ]
  },
  {
   "cell_type": "markdown",
   "metadata": {},
   "source": [
    "# Поиск лямбд"
   ]
  },
  {
   "cell_type": "code",
   "execution_count": 67,
   "metadata": {},
   "outputs": [],
   "source": [
    "lyambda = [abs(elem) for elem in np.linalg.eig(a)[0]]"
   ]
  },
  {
   "cell_type": "code",
   "execution_count": 68,
   "metadata": {},
   "outputs": [
    {
     "name": "stdout",
     "output_type": "stream",
     "text": [
      "max:  10.999999999999972\n",
      "min:  9.345658691011916\n"
     ]
    }
   ],
   "source": [
    "print(\"max: \", max(lyambda))\n",
    "print(\"min: \", min(lyambda))"
   ]
  },
  {
   "cell_type": "markdown",
   "metadata": {},
   "source": [
    "# Число обусловленности"
   ]
  },
  {
   "cell_type": "code",
   "execution_count": 69,
   "metadata": {},
   "outputs": [],
   "source": [
    "def norma_matrix(a):\n",
    "    max=0\n",
    "    for string in a:\n",
    "        s=0\n",
    "        for elem in string:\n",
    "            s+=abs(elem)\n",
    "        if s>max:\n",
    "            max=s\n",
    "    return max\n",
    "\n",
    "normaa=norma_matrix(a)"
   ]
  },
  {
   "cell_type": "code",
   "execution_count": 70,
   "metadata": {},
   "outputs": [
    {
     "name": "stdout",
     "output_type": "stream",
     "text": [
      "1.2218011459810256 0.11107283145282049 11.000000000000002\n"
     ]
    }
   ],
   "source": [
    "normaa=norma_matrix(a)\n",
    "normaa1=norma_matrix(np.linalg.inv(a))\n",
    "print(normaa*normaa1, normaa1, normaa)"
   ]
  },
  {
   "cell_type": "markdown",
   "metadata": {},
   "source": [
    "# доп с оперативной памятью"
   ]
  },
  {
   "cell_type": "code",
   "execution_count": 71,
   "metadata": {},
   "outputs": [],
   "source": [
    "def matr_a(i, j):\n",
    "    if i==j:\n",
    "        return 10\n",
    "    if i>j or i+1==j:\n",
    "        return 1/(i+1)\n",
    "    return 0\n",
    "\n",
    "def norm(mass):\n",
    "    norm=0\n",
    "    for elem in mass:\n",
    "        norm+=elem**2\n",
    "    return norm**1/2"
   ]
  },
  {
   "cell_type": "code",
   "execution_count": 72,
   "metadata": {},
   "outputs": [],
   "source": [
    "def nevyazka(x):\n",
    "    ans=0\n",
    "    for i in range(len(x)):\n",
    "        s=0\n",
    "        for j in range(len(x)):\n",
    "            s+=x[j]*matr_a(i, j)\n",
    "        ans+=(i+1-s)**2\n",
    "    return ans**0.5"
   ]
  },
  {
   "cell_type": "code",
   "execution_count": 74,
   "metadata": {},
   "outputs": [
    {
     "name": "stdout",
     "output_type": "stream",
     "text": [
      "ppp\n",
      "6455069.068181997\n",
      "1217961.4401990804\n",
      "229808.3096394994\n",
      "43360.81990141075\n"
     ]
    },
    {
     "ename": "",
     "evalue": "",
     "output_type": "error",
     "traceback": [
      "\u001b[1;31mThe Kernel crashed while executing code in the current cell or a previous cell. \n",
      "\u001b[1;31mPlease review the code in the cell(s) to identify a possible cause of the failure. \n",
      "\u001b[1;31mClick <a href='https://aka.ms/vscodeJupyterKernelCrash'>here</a> for more info. \n",
      "\u001b[1;31mView Jupyter <a href='command:jupyter.viewOutput'>log</a> for further details."
     ]
    }
   ],
   "source": [
    "omega=1.2\n",
    "t=0\n",
    "n_max=50000\n",
    "x=np.zeros(n_max)\n",
    "print(\"ppp\")\n",
    "\n",
    "while t==0 or delta>0.0001:\n",
    "    t+=1\n",
    "    x_new=x.copy()\n",
    "\n",
    "    for i in range(n_max):\n",
    "        s=0\n",
    "        for j in range(n_max):\n",
    "            if i!=j:\n",
    "                s+=matr_a(i, j)*x_new[j]\n",
    "            else: s+=matr_a(i, j)*x[j]\n",
    "        #x[i]=x[i]-omega*s/matr_a(i ,i)+omega*f[i]/matr_a(i, i)\n",
    "        #x_new[i]=x[i]+omega*(f[i]-s)/matr_a(i, i)\n",
    "        x_new[i]=x[i]-omega*(s)/matr_a(i, i)+omega*(i+1)/matr_a(i, i)\n",
    "\n",
    "        #print(s, x_new[i])\n",
    "    \n",
    "    #delta=norm(x_new-x)\n",
    "    delta=nevyazka(x)\n",
    "    #print(delta)\n",
    "    x=x_new\n",
    "    print(delta)\n",
    "    \n",
    "print(t, delta)\n",
    "[print(x[i], x_new[i], ans[i]) for i in range(5)]\n"
   ]
  },
  {
   "cell_type": "code",
   "execution_count": null,
   "metadata": {
    "scrolled": true
   },
   "outputs": [],
   "source": [
    "print(nevyazka(x))"
   ]
  },
  {
   "cell_type": "markdown",
   "metadata": {},
   "source": [
    "# доп с собственным значением"
   ]
  },
  {
   "cell_type": "code",
   "execution_count": null,
   "metadata": {},
   "outputs": [
    {
     "name": "stdout",
     "output_type": "stream",
     "text": [
      "1000\n",
      "[5.41021189e-01 7.21361586e-01 4.05765892e-01 1.44272317e-01\n",
      " 3.75709159e-02 7.72887413e-03 1.31498206e-03 1.90836398e-04\n",
      " 2.41527317e-05 2.71074429e-06 2.73333383e-07 2.50222550e-08\n",
      " 2.09759975e-09 1.62181283e-10 1.16360933e-11 7.78781669e-13\n",
      " 4.88428607e-14 2.88200453e-15 1.60556117e-16 8.47150068e-18\n",
      " 4.24537704e-19 2.02579364e-20 9.22559260e-22 4.01810309e-23\n",
      " 1.67689265e-24 6.71750778e-26 2.58720613e-27 9.59450392e-29\n",
      " 3.43083522e-30 1.18540174e-31 4.02948380e-33 1.83342664e-34\n",
      " 4.43390385e-35 2.95587018e-35 2.16372565e-35 1.60047802e-35\n",
      " 1.19130911e-35 8.91782122e-36 6.71067130e-36 5.07433237e-36\n",
      " 3.85429758e-36 2.93985144e-36 2.25107972e-36 1.72990785e-36\n",
      " 1.33386365e-36 1.03170029e-36 8.00300706e-37 6.22472422e-37\n",
      " 4.85365793e-37 3.79332258e-37 2.97095022e-37 2.33143288e-37\n",
      " 1.83287404e-37 1.44330262e-37 1.13823616e-37 8.98865853e-38\n",
      " 7.10696061e-38 5.62522157e-38 4.45659943e-38 3.53360794e-38\n",
      " 2.80366926e-38 2.22572985e-38 1.76766445e-38 1.40427071e-38\n",
      " 1.11574928e-38 8.86527042e-39 7.04316062e-39 5.59412524e-39\n",
      " 4.44145862e-39 3.52442951e-39 2.79478807e-39 2.21429097e-39\n",
      " 1.75257880e-39 1.38548423e-39 1.09374390e-39 8.62095444e-40\n",
      " 6.78325690e-40 5.32649378e-40 4.17293762e-40 3.26066847e-40\n",
      " 2.54061719e-40 1.97317019e-40 1.52700963e-40 1.17733611e-40\n",
      " 9.04136441e-41 6.90587635e-41 5.24288909e-41 3.95383254e-41\n",
      " 2.95735755e-41 2.19812741e-41 1.62224676e-41 1.18217361e-41\n",
      " 8.51148102e-42 6.01818741e-42 4.18621492e-42 2.87058955e-42\n",
      " 1.93452282e-42 1.23326483e-42 7.10077393e-43 3.88750301e-43]\n",
      "3.887503008436096e-43 0.7213615855045709 0.9999999999999999\n"
     ]
    }
   ],
   "source": [
    "import random\n",
    "\n",
    "x=np.array([random.randint(1, 10) for i in range(100)])\n",
    "x=[elem/norma for elem in x]\n",
    "a=np.array([[matr_a(i,j) for i in range(100)] for j in range(100)])\n",
    "k=0\n",
    "\n",
    "\n",
    "\n",
    "while not(0.99<norm(x)<1.01) and k<1000:\n",
    "    #print(norm(x))\n",
    "    pr=np.dot(a, x)\n",
    "\n",
    "    norma=np.linalg.norm(pr)\n",
    "    x=np.array([elem/norma for elem in pr])\n",
    "    k+=1\n",
    "\n",
    "print(k)\n",
    "print(x)\n",
    "print(min(x), max(x),np.linalg.norm(x))\n",
    "\n",
    "y=np.array([random.randint(1, 10) for i in range(100)])"
   ]
  }
 ],
 "metadata": {
  "kernelspec": {
   "display_name": "Python 3",
   "language": "python",
   "name": "python3"
  },
  "language_info": {
   "codemirror_mode": {
    "name": "ipython",
    "version": 3
   },
   "file_extension": ".py",
   "mimetype": "text/x-python",
   "name": "python",
   "nbconvert_exporter": "python",
   "pygments_lexer": "ipython3",
   "version": "3.10.12"
  }
 },
 "nbformat": 4,
 "nbformat_minor": 2
}
